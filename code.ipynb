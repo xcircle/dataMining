{
 "cells": [
  {
   "cell_type": "code",
   "execution_count": 121,
   "metadata": {},
   "outputs": [],
   "source": [
    "import numpy\n",
    "import pandas\n",
    "from scipy import stats\n",
    "import matplotlib.pyplot as plt\n",
    "import plotly.plotly as py\n",
    "import plotly.graph_objs as go"
   ]
  },
  {
   "cell_type": "code",
   "execution_count": 30,
   "metadata": {},
   "outputs": [],
   "source": [
    "def get_counts(sequence):\n",
    "    count={}\n",
    "    for x in sequence:\n",
    "        if(x in count):\n",
    "            count[x]+=1\n",
    "        else:\n",
    "            count[x]=1\n",
    "    return count        "
   ]
  },
  {
   "cell_type": "code",
   "execution_count": 2,
   "metadata": {},
   "outputs": [],
   "source": [
    "csv_data=pandas.read_csv('~/Downloads/wine-reviews/winemag-data-130k-v2.csv')"
   ]
  },
  {
   "cell_type": "code",
   "execution_count": 37,
   "metadata": {},
   "outputs": [
    {
     "data": {
      "text/plain": [
       "[(nan, 21247),\n",
       " ('Napa Valley', 4480),\n",
       " ('Columbia Valley (WA)', 4124),\n",
       " ('Russian River Valley', 3091),\n",
       " ('California', 2629),\n",
       " ('Paso Robles', 2350),\n",
       " ('Willamette Valley', 2301),\n",
       " ('Mendoza', 2301),\n",
       " ('Alsace', 2163),\n",
       " ('Champagne', 1613)]"
      ]
     },
     "execution_count": 37,
     "metadata": {},
     "output_type": "execute_result"
    }
   ],
   "source": [
    "dt=csv_data.T\n",
    "region1=dt.values[7]\n",
    "#p=pandas.DataFrame(region1)\n",
    "count=get_counts(region1)\n",
    "count = sorted(count.items(),key=lambda item:item[1],reverse=True)\n",
    "count[0:10]"
   ]
  },
  {
   "cell_type": "code",
   "execution_count": 26,
   "metadata": {},
   "outputs": [
    {
     "name": "stdout",
     "output_type": "stream",
     "text": [
      "                   0\n",
      "count  120975.000000\n",
      "mean       35.363389\n",
      "std        41.022218\n",
      "min         4.000000\n",
      "25%        17.000000\n",
      "50%        25.000000\n",
      "75%        42.000000\n",
      "max      3300.000000\n",
      "0    8996\n",
      "dtype: int64\n"
     ]
    }
   ],
   "source": [
    "dt=csv_data.T\n",
    "price=dt.values[5]\n",
    "q=pandas.DataFrame(price).astype('float64')\n",
    "print(q.describe(include='all'))\n",
    "print(p.isna().sum())"
   ]
  },
  {
   "cell_type": "code",
   "execution_count": 63,
   "metadata": {},
   "outputs": [
    {
     "data": {
      "text/plain": [
       "((array([-4.38762881, -4.19065053, -4.08357623, ...,  4.08357623,\n",
       "          4.19065053,  4.38762881]),\n",
       "  array([   4.,    4.,    4., ..., 2500., 2500., 3300.])),\n",
       " (26.993976478818105, 35.36338912998554, 0.6580115872492234))"
      ]
     },
     "execution_count": 63,
     "metadata": {},
     "output_type": "execute_result"
    },
    {
     "data": {
      "image/png": "[encoded data removed]",
      "text/plain": [
       "<Figure size 432x288 with 1 Axes>"
      ]
     },
     "metadata": {
      "needs_background": "light"
     },
     "output_type": "display_data"
    }
   ],
   "source": [
    "dt=csv_data\n",
    "price=dt['price']\n",
    "price=region1.dropna(axis=0,how='all')\n",
    "price\n",
    "stats.probplot(region1, dist=\"norm\", plot=plt)"
   ]
  },
  {
   "cell_type": "code",
   "execution_count": 65,
   "metadata": {},
   "outputs": [
    {
     "data": {
      "text/plain": [
       "'file:///Users/maxu/Desktop/temp-plot.html'"
      ]
     },
     "execution_count": 65,
     "metadata": {},
     "output_type": "execute_result"
    }
   ],
   "source": [
    "data = [go.Box(y=price)]\n",
    "plotly.offline.plot(data)  # 盒图"
   ]
  },
  {
   "cell_type": "code",
   "execution_count": 100,
   "metadata": {},
   "outputs": [
    {
     "data": {
      "text/plain": [
       "array([[15., 14., 13., ..., 30., 32., 21.]])"
      ]
     },
     "execution_count": 100,
     "metadata": {},
     "output_type": "execute_result"
    }
   ],
   "source": [
    "dt=csv_data\n",
    "price=dt['price']\n",
    "price1=price.dropna(axis=0,how='all').astype('float64').values.reshape(1,-1)\n",
    "imp_mean = SimpleImputer(missing_values='NaN', strategy='mean')\n",
    "#Fit = imp_mean.fit(price1)\n",
    "#new_data = imp_mean.transform(price)\n",
    "price1"
   ]
  },
  {
   "cell_type": "code",
   "execution_count": 106,
   "metadata": {},
   "outputs": [
    {
     "data": {
      "text/plain": [
       "0         35.363389\n",
       "1         15.000000\n",
       "2         14.000000\n",
       "3         13.000000\n",
       "4         65.000000\n",
       "5         15.000000\n",
       "6         16.000000\n",
       "7         24.000000\n",
       "8         12.000000\n",
       "9         27.000000\n",
       "10        19.000000\n",
       "11        30.000000\n",
       "12        34.000000\n",
       "13        35.363389\n",
       "14        12.000000\n",
       "15        24.000000\n",
       "16        30.000000\n",
       "17        13.000000\n",
       "18        28.000000\n",
       "19        32.000000\n",
       "20        23.000000\n",
       "21        20.000000\n",
       "22        19.000000\n",
       "23        22.000000\n",
       "24        35.000000\n",
       "25        69.000000\n",
       "26        13.000000\n",
       "27        10.000000\n",
       "28        17.000000\n",
       "29        16.000000\n",
       "            ...    \n",
       "129941    20.000000\n",
       "129942    35.000000\n",
       "129943    29.000000\n",
       "129944    25.000000\n",
       "129945    20.000000\n",
       "129946    17.000000\n",
       "129947    20.000000\n",
       "129948    43.000000\n",
       "129949    35.000000\n",
       "129950    35.000000\n",
       "129951    30.000000\n",
       "129952    22.000000\n",
       "129953    25.000000\n",
       "129954    15.000000\n",
       "129955    40.000000\n",
       "129956    19.000000\n",
       "129957    17.000000\n",
       "129958    35.000000\n",
       "129959    57.000000\n",
       "129960    48.000000\n",
       "129961    30.000000\n",
       "129962    40.000000\n",
       "129963    20.000000\n",
       "129964    35.363389\n",
       "129965    28.000000\n",
       "129966    28.000000\n",
       "129967    75.000000\n",
       "129968    30.000000\n",
       "129969    32.000000\n",
       "129970    21.000000\n",
       "Name: price, Length: 129971, dtype: float64"
      ]
     },
     "execution_count": 106,
     "metadata": {},
     "output_type": "execute_result"
    }
   ],
   "source": [
    "dt=csv_data\n",
    "price=dt['price']\n",
    "price_after=price.fillna(price.mean())\n",
    "price_after"
   ]
  },
  {
   "cell_type": "code",
   "execution_count": 120,
   "metadata": {},
   "outputs": [
    {
     "data": {
      "text/plain": [
       "'file:///Users/maxu/Desktop/temp-plot.html'"
      ]
     },
     "execution_count": 120,
     "metadata": {},
     "output_type": "execute_result"
    }
   ],
   "source": [
    "origin = go.Box(\n",
    "    y=price\n",
    ")\n",
    "mean_fill = go.Box(\n",
    "    y=price_after\n",
    ")\n",
    "data = [origin, mean_fill]\n",
    "plotly.offline.plot(data)"
   ]
  },
  {
   "cell_type": "code",
   "execution_count": null,
   "metadata": {},
   "outputs": [],
   "source": []
  }
 ],
 "metadata": {
  "kernelspec": {
   "display_name": "Python 3",
   "language": "python",
   "name": "python3"
  },
  "language_info": {
   "codemirror_mode": {
    "name": "ipython",
    "version": 3
   },
   "file_extension": ".py",
   "mimetype": "text/x-python",
   "name": "python",
   "nbconvert_exporter": "python",
   "pygments_lexer": "ipython3",
   "version": "3.7.2"
  }
 },
 "nbformat": 4,
 "nbformat_minor": 2
}
